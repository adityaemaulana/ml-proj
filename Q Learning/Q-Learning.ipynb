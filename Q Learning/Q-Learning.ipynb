{
 "cells": [
  {
   "cell_type": "code",
   "execution_count": 178,
   "metadata": {},
   "outputs": [],
   "source": [
    "import numpy as np\n",
    "import random\n",
    "import matplotlib.pyplot as plt\n",
    "from matplotlib import colors"
   ]
  },
  {
   "cell_type": "code",
   "execution_count": 179,
   "metadata": {
    "scrolled": true
   },
   "outputs": [
    {
     "data": {
      "text/plain": [
       "array([[ -1.,  -2.,  -3.,  -2.,  -3.,  -3.,  -4.,  -1.,  -4.,  -2.,  -1.,\n",
       "         -2.,  -3.,  -3., 500.],\n",
       "       [ -1.,  -3.,  -1.,  -2.,  -4.,  -1.,  -4.,  -1.,  -4.,  -2.,  -4.,\n",
       "         -2.,  -2.,  -2.,  -1.],\n",
       "       [ -4.,  -2.,  -1.,  -4.,  -2.,  -1.,  -2.,  -4.,  -2.,  -3.,  -2.,\n",
       "         -1.,  -2.,  -4.,  -4.],\n",
       "       [ -4.,  -2.,  -4.,  -1.,  -3.,  -2.,  -3.,  -2.,  -4.,  -2.,  -4.,\n",
       "         -1.,  -2.,  -4.,  -2.],\n",
       "       [ -4.,  -2.,  -2.,  -3.,  -2.,  -3.,  -1.,  -1.,  -4.,  -2.,  -1.,\n",
       "         -3.,  -4.,  -2.,  -4.],\n",
       "       [ -4.,  -3.,  -3.,  -4.,  -2.,  -3.,  -4.,  -2.,  -2.,  -1.,  -1.,\n",
       "         -2.,  -1.,  -2.,  -1.],\n",
       "       [ -2.,  -3.,  -2.,  -1.,  -1.,  -3.,  -2.,  -1.,  -4.,  -3.,  -1.,\n",
       "         -1.,  -2.,  -3.,  -3.],\n",
       "       [ -3.,  -1.,  -1.,  -4.,  -4.,  -3.,  -1.,  -2.,  -3.,  -1.,  -1.,\n",
       "         -4.,  -4.,  -3.,  -3.],\n",
       "       [ -3.,  -1.,  -4.,  -2.,  -3.,  -3.,  -1.,  -4.,  -4.,  -4.,  -2.,\n",
       "         -2.,  -2.,  -2.,  -1.],\n",
       "       [ -3.,  -4.,  -4.,  -2.,  -3.,  -4.,  -3.,  -3.,  -2.,  -2.,  -3.,\n",
       "         -4.,  -3.,  -4.,  -1.],\n",
       "       [ -3.,  -4.,  -1.,  -1.,  -1.,  -4.,  -4.,  -4.,  -4.,  -1.,  -2.,\n",
       "         -4.,  -2.,  -2.,  -1.],\n",
       "       [ -1.,  -3.,  -3.,  -3.,  -3.,  -3.,  -3.,  -3.,  -4.,  -1.,  -2.,\n",
       "         -4.,  -1.,  -2.,  -4.],\n",
       "       [ -2.,  -2.,  -1.,  -2.,  -2.,  -2.,  -4.,  -3.,  -1.,  -4.,  -1.,\n",
       "         -4.,  -2.,  -2.,  -2.],\n",
       "       [ -2.,  -1.,  -3.,  -1.,  -4.,  -4.,  -1.,  -3.,  -3.,  -1.,  -1.,\n",
       "         -2.,  -3.,  -4.,  -3.],\n",
       "       [ -2.,  -2.,  -1.,  -4.,  -4.,  -4.,  -2.,  -2.,  -3.,  -1.,  -2.,\n",
       "         -2.,  -1.,  -1.,  -3.]])"
      ]
     },
     "execution_count": 179,
     "metadata": {},
     "output_type": "execute_result"
    }
   ],
   "source": [
    "reward = np.genfromtxt(\"DataTugas3ML2019.txt\")\n",
    "reward"
   ]
  },
  {
   "cell_type": "code",
   "execution_count": 180,
   "metadata": {},
   "outputs": [
    {
     "name": "stdout",
     "output_type": "stream",
     "text": [
      "[[0. 0. 0. 0. 0. 0. 0. 0. 0. 0. 0. 0. 0. 0. 0.]\n",
      " [0. 0. 0. 0. 0. 0. 0. 0. 0. 0. 0. 0. 0. 0. 0.]\n",
      " [0. 0. 0. 0. 0. 0. 0. 0. 0. 0. 0. 0. 0. 0. 0.]\n",
      " [0. 0. 0. 0. 0. 0. 0. 0. 0. 0. 0. 0. 0. 0. 0.]\n",
      " [0. 0. 0. 0. 0. 0. 0. 0. 0. 0. 0. 0. 0. 0. 0.]\n",
      " [0. 0. 0. 0. 0. 0. 0. 0. 0. 0. 0. 0. 0. 0. 0.]\n",
      " [0. 0. 0. 0. 0. 0. 0. 0. 0. 0. 0. 0. 0. 0. 0.]\n",
      " [0. 0. 0. 0. 0. 0. 0. 0. 0. 0. 0. 0. 0. 0. 0.]\n",
      " [0. 0. 0. 0. 0. 0. 0. 0. 0. 0. 0. 0. 0. 0. 0.]\n",
      " [0. 0. 0. 0. 0. 0. 0. 0. 0. 0. 0. 0. 0. 0. 0.]\n",
      " [0. 0. 0. 0. 0. 0. 0. 0. 0. 0. 0. 0. 0. 0. 0.]\n",
      " [0. 0. 0. 0. 0. 0. 0. 0. 0. 0. 0. 0. 0. 0. 0.]\n",
      " [0. 0. 0. 0. 0. 0. 0. 0. 0. 0. 0. 0. 0. 0. 0.]\n",
      " [0. 0. 0. 0. 0. 0. 0. 0. 0. 0. 0. 0. 0. 0. 0.]\n",
      " [0. 0. 0. 0. 0. 0. 0. 0. 0. 0. 0. 0. 0. 0. 0.]]\n"
     ]
    }
   ],
   "source": [
    "SIZE = (15, 15)\n",
    "q_table = np.zeros(SIZE)\n",
    "print(q_table)"
   ]
  },
  {
   "cell_type": "code",
   "execution_count": 181,
   "metadata": {},
   "outputs": [],
   "source": [
    "episode = 1000\n",
    "learning_rate = 1\n",
    "discount_factor = 1"
   ]
  },
  {
   "cell_type": "code",
   "execution_count": 182,
   "metadata": {},
   "outputs": [],
   "source": [
    "def get_available_action(x, y):\n",
    "    actions = [\"UP\", \"DOWN\", \"RIGHT\", \"LEFT\"]\n",
    "    \n",
    "    if(x == 0):\n",
    "        actions.remove(\"UP\")\n",
    "    if(x == len(reward)-1):\n",
    "        actions.remove(\"DOWN\")\n",
    "    if(y == 0):\n",
    "        actions.remove(\"LEFT\")\n",
    "    if(y == len(reward)-1):\n",
    "        actions.remove(\"RIGHT\")\n",
    "            \n",
    "    return actions"
   ]
  },
  {
   "cell_type": "code",
   "execution_count": 183,
   "metadata": {},
   "outputs": [],
   "source": [
    "def move_pos(x, y, cmd):\n",
    "    if(cmd == \"UP\"):\n",
    "        x = x - 1\n",
    "    if(cmd == \"DOWN\"):\n",
    "        x = x + 1\n",
    "    if(cmd == \"LEFT\"):\n",
    "        y = y - 1\n",
    "    if(cmd == \"RIGHT\"):\n",
    "        y = y + 1\n",
    "    \n",
    "    return x, y"
   ]
  },
  {
   "cell_type": "code",
   "execution_count": 184,
   "metadata": {},
   "outputs": [],
   "source": [
    "def update_table(x, y):\n",
    "    next_act = get_available_action(x, y)\n",
    "    next_q = []\n",
    "    \n",
    "    for act in next_act:\n",
    "        nx, ny = move_pos(x, y, act)\n",
    "        next_q.append(q_table[nx, ny])\n",
    "    \n",
    "\n",
    "    return q_table[x,y] + learning_rate * (reward[x, y] + (discount_factor * max(next_q)) - q_table[x, y])"
   ]
  },
  {
   "cell_type": "code",
   "execution_count": 185,
   "metadata": {},
   "outputs": [],
   "source": [
    "def goal(x, y):\n",
    "    if(x == 0 and y == 14):\n",
    "        return True\n",
    "    else:\n",
    "        return False"
   ]
  },
  {
   "cell_type": "code",
   "execution_count": 186,
   "metadata": {
    "scrolled": true
   },
   "outputs": [
    {
     "name": "stdout",
     "output_type": "stream",
     "text": [
      "0 1 2 3 4 5 6 7 8 9 10 11 12 13 14 15 16 17 18 19 20 21 22 23 24 25 26 27 28 29 30 31 32 33 34 35 36 37 38 39 40 41 42 43 44 45 46 47 48 49 50 51 52 53 54 55 56 57 58 59 60 61 62 63 64 65 66 67 68 69 70 71 72 73 74 75 76 77 78 79 80 81 82 83 84 85 86 87 88 89 90 91 92 93 94 95 96 97 98 99 100 101 102 103 104 105 106 107 108 109 110 111 112 113 114 115 116 117 118 119 120 121 122 123 124 125 126 127 128 129 130 131 132 133 134 135 136 137 138 139 140 141 142 143 144 145 146 147 148 149 150 151 152 153 154 155 156 157 158 159 160 161 162 163 164 165 166 167 168 169 170 171 172 173 174 175 176 177 178 179 180 181 182 183 184 185 186 187 188 189 190 191 192 193 194 195 196 197 198 199 200 201 202 203 204 205 206 207 208 209 210 211 212 213 214 215 216 217 218 219 220 221 222 223 224 225 226 227 228 229 230 231 232 233 234 235 236 237 238 239 240 241 242 243 244 245 246 247 248 249 250 251 252 253 254 255 256 257 258 259 260 261 262 263 264 265 266 267 268 269 270 271 272 273 274 275 276 277 278 279 280 281 282 283 284 285 286 287 288 289 290 291 292 293 294 295 296 297 298 299 300 301 302 303 304 305 306 307 308 309 310 311 312 313 314 315 316 317 318 319 320 321 322 323 324 325 326 327 328 329 330 331 332 333 334 335 336 337 338 339 340 341 342 343 344 345 346 347 348 349 350 351 352 353 354 355 356 357 358 359 360 361 362 363 364 365 366 367 368 369 370 371 372 373 374 375 376 377 378 379 380 381 382 383 384 385 386 387 388 389 390 391 392 393 394 395 396 397 398 399 400 401 402 403 404 405 406 407 408 409 410 411 412 413 414 415 416 417 418 419 420 421 422 423 424 425 426 427 428 429 430 431 432 433 434 435 436 437 438 439 440 441 442 443 444 445 446 447 448 449 450 451 452 453 454 455 456 457 458 459 460 461 462 463 464 465 466 467 468 469 470 471 472 473 474 475 476 477 478 479 480 481 482 483 484 485 486 487 488 489 490 491 492 493 494 495 496 497 498 499 500 501 502 503 504 505 506 507 508 509 510 511 512 513 514 515 516 517 518 519 520 521 522 523 524 525 526 527 528 529 530 531 532 533 534 535 536 537 538 539 540 541 542 543 544 545 546 547 548 549 550 551 552 553 554 555 556 557 558 559 560 561 562 563 564 565 566 567 568 569 570 571 572 573 574 575 576 577 578 579 580 581 582 583 584 585 586 587 588 589 590 591 592 593 594 595 596 597 598 599 600 601 602 603 604 605 606 607 608 609 610 611 612 613 614 615 616 617 618 619 620 621 622 623 624 625 626 627 628 629 630 631 632 633 634 635 636 637 638 639 640 641 642 643 644 645 646 647 648 649 650 651 652 653 654 655 656 657 658 659 660 661 662 663 664 665 666 667 668 669 670 671 672 673 674 675 676 677 678 679 680 681 682 683 684 685 686 687 688 689 690 691 692 693 694 695 696 697 698 699 700 701 702 703 704 705 706 707 708 709 710 711 712 713 714 715 716 717 718 719 720 721 722 723 724 725 726 727 728 729 730 731 732 733 734 735 736 737 738 739 740 741 742 743 744 745 746 747 748 749 750 751 752 753 754 755 756 757 758 759 760 761 762 763 764 765 766 767 768 769 770 771 772 773 774 775 776 777 778 779 780 781 782 783 784 785 786 787 788 789 790 791 792 793 794 795 796 797 798 799 800 801 802 803 804 805 806 807 808 809 810 811 812 813 814 815 816 817 818 819 820 821 822 823 824 825 826 827 828 829 830 831 832 833 834 835 836 837 838 839 840 841 842 843 844 845 846 847 848 849 850 851 852 853 854 855 856 857 858 859 860 861 862 863 864 865 866 867 868 869 870 871 872 873 874 875 876 877 878 879 880 881 882 883 884 885 886 887 888 889 890 891 892 893 894 895 896 897 898 899 900 901 902 903 904 905 906 907 908 909 910 911 912 913 914 915 916 917 918 919 920 921 922 923 924 925 926 927 928 929 930 931 932 933 934 935 936 937 938 939 940 941 942 943 944 945 946 947 948 949 950 951 952 953 954 955 956 957 958 959 960 961 962 963 964 965 966 967 968 969 970 971 972 973 974 975 976 977 978 979 980 981 982 983 984 985 986 987 988 989 990 991 992 993 994 995 996 997 998 999 1000 "
     ]
    }
   ],
   "source": [
    "for ep in range(episode+1):\n",
    "    print(ep, end=' ')\n",
    "    row, col = 14, 0\n",
    "    \n",
    "    while not goal(row, col):\n",
    "        actions = get_available_action(row, col)\n",
    "        next_act = random.choice(actions)\n",
    "        row, col = move_pos(row, col, next_act)\n",
    "        \n",
    "        q_table[row, col] = update_table(row, col)"
   ]
  },
  {
   "cell_type": "code",
   "execution_count": 189,
   "metadata": {
    "scrolled": true
   },
   "outputs": [
    {
     "name": "stdout",
     "output_type": "stream",
     "text": [
      "[[496924. 496924. 496926. 496928. 496930. 496933. 496936. 496945. 496946.\n",
      "  496950. 497948. 497949. 497951. 498453. 498953.]\n",
      " [496925. 496926. 496929. 496930. 496932. 496936. 496937. 496944. 496942.\n",
      "  497437. 497946. 497950. 497952. 497954. 497956.]\n",
      " [496922. 496926. 496928. 496929. 496934. 496936. 496937. 496940. 496944.\n",
      "  497944. 497947. 497949. 497950. 497950. 497952.]\n",
      " [496920. 496924. 496925. 496929. 496930. 496934. 496934. 497935. 497934.\n",
      "  497942. 497944. 497948. 497948. 497946. 497950.]\n",
      " [496919. 496923. 496925. 496927. 496930. 496932. 497936. 497937. 497938.\n",
      "  497942. 497944. 497945. 497944. 497944. 497946.]]\n"
     ]
    }
   ],
   "source": [
    "print(q_table[0:5])"
   ]
  },
  {
   "cell_type": "code",
   "execution_count": 161,
   "metadata": {},
   "outputs": [
    {
     "data": {
      "image/png": "[encoded data removed]",
      "text/plain": [
       "<Figure size 432x288 with 1 Axes>"
      ]
     },
     "metadata": {},
     "output_type": "display_data"
    }
   ],
   "source": [
    "result_table = np.zeros((15, 15))\n",
    "plt.ion()\n",
    "\n",
    "x, y = 14, 0\n",
    "while not goal(x, y):\n",
    "    result_table[x, y] = 1\n",
    "    \n",
    "    actions = get_available_action(x, y)\n",
    "    best_act = \"\"\n",
    "    best_reward = -999999999\n",
    "    for act in actions:\n",
    "        nx, ny = move_pos(x, y, act)\n",
    "        \n",
    "        if(q_table[nx, ny] > best_reward):\n",
    "            best_act, best_reward = act, q_table[nx, ny]\n",
    "        \n",
    "    x, y = move_pos(x, y, best_act)\n",
    "result_table[x, y] = 1\n",
    "#         draw gridlines\n",
    "fig = plt.figure()\n",
    "ax = fig.add_subplot(111)\n",
    "ax.matshow(result_table, cmap=plt.cm.Blues)\n",
    "plt.show()"
   ]
  }
 ],
 "metadata": {
  "kernelspec": {
   "display_name": "Python 3",
   "language": "python",
   "name": "python3"
  },
  "language_info": {
   "codemirror_mode": {
    "name": "ipython",
    "version": 3
   },
   "file_extension": ".py",
   "mimetype": "text/x-python",
   "name": "python",
   "nbconvert_exporter": "python",
   "pygments_lexer": "ipython3",
   "version": "3.6.5"
  }
 },
 "nbformat": 4,
 "nbformat_minor": 2
}
